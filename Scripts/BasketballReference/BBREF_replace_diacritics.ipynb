{
 "cells": [
  {
   "cell_type": "code",
   "execution_count": 1,
   "metadata": {},
   "outputs": [],
   "source": [
    "import pandas as pd\n",
    "import unidecode"
   ]
  },
  {
   "cell_type": "code",
   "execution_count": 2,
   "metadata": {},
   "outputs": [],
   "source": [
    "data= pd.read_csv(\"test.csv\")"
   ]
  },
  {
   "cell_type": "code",
   "execution_count": 3,
   "metadata": {},
   "outputs": [
    {
     "name": "stdout",
     "output_type": "stream",
     "text": [
      "   Rk                  Player Pos  Age   Tm   G    MP   PER    TS%   3PAr  \\\n",
      "0   1  Álex Abrines\\abrinal01  SG   25  OKC  31   588   6.3  0.507  0.809   \n",
      "1   2      Quincy Acy\\acyqu01  PF   28  PHO  10   123   2.9  0.379  0.833   \n",
      "2   3  Jaylen Adams\\adamsja01  PG   22  ATL  34   428   7.6  0.474  0.673   \n",
      "3   4  Steven Adams\\adamsst01   C   25  OKC  80  2669  18.5  0.591  0.002   \n",
      "\n",
      "   ...  Unnamed: 19  OWS  DWS   WS  WS/48  Unnamed: 24  OBPM  DBPM  BPM  VORP  \n",
      "0  ...          NaN  0.1  0.6  0.6  0.053          NaN  -2.4  -0.9 -3.4  -0.2  \n",
      "1  ...          NaN -0.1  0.0 -0.1 -0.022          NaN  -5.7  -0.3 -5.9  -0.1  \n",
      "2  ...          NaN -0.1  0.2  0.1  0.011          NaN  -3.1  -1.3 -4.4  -0.3  \n",
      "3  ...          NaN  5.1  4.0  9.1  0.163          NaN   0.6   2.1  2.7   3.2  \n",
      "\n",
      "[4 rows x 29 columns]\n"
     ]
    }
   ],
   "source": [
    "print(data)"
   ]
  },
  {
   "cell_type": "code",
   "execution_count": 5,
   "metadata": {},
   "outputs": [],
   "source": [
    "for index, row in data.iterrows():\n",
    "    str= row['Player']\n",
    "    row['Player']= unidecode.unidecode(str)\n",
    "    "
   ]
  },
  {
   "cell_type": "code",
   "execution_count": 6,
   "metadata": {},
   "outputs": [
    {
     "name": "stdout",
     "output_type": "stream",
     "text": [
      "   Rk                  Player Pos  Age   Tm   G    MP   PER    TS%   3PAr  \\\n",
      "0   1  Alex Abrines\\abrinal01  SG   25  OKC  31   588   6.3  0.507  0.809   \n",
      "1   2      Quincy Acy\\acyqu01  PF   28  PHO  10   123   2.9  0.379  0.833   \n",
      "2   3  Jaylen Adams\\adamsja01  PG   22  ATL  34   428   7.6  0.474  0.673   \n",
      "3   4  Steven Adams\\adamsst01   C   25  OKC  80  2669  18.5  0.591  0.002   \n",
      "\n",
      "   ...  Unnamed: 19  OWS  DWS   WS  WS/48  Unnamed: 24  OBPM  DBPM  BPM  VORP  \n",
      "0  ...          NaN  0.1  0.6  0.6  0.053          NaN  -2.4  -0.9 -3.4  -0.2  \n",
      "1  ...          NaN -0.1  0.0 -0.1 -0.022          NaN  -5.7  -0.3 -5.9  -0.1  \n",
      "2  ...          NaN -0.1  0.2  0.1  0.011          NaN  -3.1  -1.3 -4.4  -0.3  \n",
      "3  ...          NaN  5.1  4.0  9.1  0.163          NaN   0.6   2.1  2.7   3.2  \n",
      "\n",
      "[4 rows x 29 columns]\n"
     ]
    }
   ],
   "source": [
    "print(data)"
   ]
  },
  {
   "cell_type": "code",
   "execution_count": null,
   "metadata": {},
   "outputs": [],
   "source": []
  }
 ],
 "metadata": {
  "kernelspec": {
   "display_name": "Python 3",
   "language": "python",
   "name": "python3"
  },
  "language_info": {
   "codemirror_mode": {
    "name": "ipython",
    "version": 3
   },
   "file_extension": ".py",
   "mimetype": "text/x-python",
   "name": "python",
   "nbconvert_exporter": "python",
   "pygments_lexer": "ipython3",
   "version": "3.7.3"
  }
 },
 "nbformat": 4,
 "nbformat_minor": 2
}
